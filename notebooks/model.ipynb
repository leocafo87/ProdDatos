{
 "cells": [
  {
   "cell_type": "code",
   "execution_count": 319,
   "metadata": {},
   "outputs": [],
   "source": [
    "import pandas as pd\n",
    "import os "
   ]
  },
  {
   "cell_type": "code",
   "execution_count": 320,
   "metadata": {},
   "outputs": [],
   "source": [
    "#Leer la carpeta \"batches\"\n",
    "path = \"../batches\"\n",
    "files = os.listdir(path)\n",
    "#Leer los archivos de la carpeta \"batches\"\n",
    "df = pd.concat([pd.read_csv(os.path.join(path, file)) for file in files])\n",
    "#Guardar el archivo en formato csv\n",
    "df.to_csv(\"../batches/batches_concatenate.csv\", index=False)"
   ]
  },
  {
   "cell_type": "code",
   "execution_count": 321,
   "metadata": {},
   "outputs": [
    {
     "data": {
      "text/html": [
       "<div>\n",
       "<style scoped>\n",
       "    .dataframe tbody tr th:only-of-type {\n",
       "        vertical-align: middle;\n",
       "    }\n",
       "\n",
       "    .dataframe tbody tr th {\n",
       "        vertical-align: top;\n",
       "    }\n",
       "\n",
       "    .dataframe thead th {\n",
       "        text-align: right;\n",
       "    }\n",
       "</style>\n",
       "<table border=\"1\" class=\"dataframe\">\n",
       "  <thead>\n",
       "    <tr style=\"text-align: right;\">\n",
       "      <th></th>\n",
       "      <th>index</th>\n",
       "      <th>Formula</th>\n",
       "      <th>Phase</th>\n",
       "      <th>Elem1</th>\n",
       "      <th>Elem2</th>\n",
       "      <th>Elem3</th>\n",
       "      <th>Elem4</th>\n",
       "      <th>Elem5</th>\n",
       "      <th>Elem6</th>\n",
       "      <th>Elem7</th>\n",
       "      <th>Elem8</th>\n",
       "      <th>CantElemen</th>\n",
       "      <th>Compo1</th>\n",
       "      <th>Compo2</th>\n",
       "      <th>Compo3</th>\n",
       "      <th>Compo4</th>\n",
       "      <th>Compo5</th>\n",
       "      <th>Compo6</th>\n",
       "      <th>Compo7</th>\n",
       "      <th>Compo8</th>\n",
       "    </tr>\n",
       "  </thead>\n",
       "  <tbody>\n",
       "    <tr>\n",
       "      <th>0</th>\n",
       "      <td>29.0</td>\n",
       "      <td>Al40Cu60T</td>\n",
       "      <td>CRA</td>\n",
       "      <td>Al</td>\n",
       "      <td>Cu</td>\n",
       "      <td>0</td>\n",
       "      <td>0</td>\n",
       "      <td>0</td>\n",
       "      <td>0</td>\n",
       "      <td>0</td>\n",
       "      <td>0</td>\n",
       "      <td>2</td>\n",
       "      <td>40.0</td>\n",
       "      <td>60.0</td>\n",
       "      <td>0.0</td>\n",
       "      <td>0.0</td>\n",
       "      <td>0.0</td>\n",
       "      <td>0.0</td>\n",
       "      <td>0.0</td>\n",
       "      <td>0.0</td>\n",
       "    </tr>\n",
       "    <tr>\n",
       "      <th>1</th>\n",
       "      <td>92.0</td>\n",
       "      <td>Al90Ni10</td>\n",
       "      <td>CRA</td>\n",
       "      <td>Al</td>\n",
       "      <td>Ni</td>\n",
       "      <td>0</td>\n",
       "      <td>0</td>\n",
       "      <td>0</td>\n",
       "      <td>0</td>\n",
       "      <td>0</td>\n",
       "      <td>0</td>\n",
       "      <td>2</td>\n",
       "      <td>90.0</td>\n",
       "      <td>10.0</td>\n",
       "      <td>0.0</td>\n",
       "      <td>0.0</td>\n",
       "      <td>0.0</td>\n",
       "      <td>0.0</td>\n",
       "      <td>0.0</td>\n",
       "      <td>0.0</td>\n",
       "    </tr>\n",
       "    <tr>\n",
       "      <th>2</th>\n",
       "      <td>103.0</td>\n",
       "      <td>Al92La8</td>\n",
       "      <td>RMG</td>\n",
       "      <td>Al</td>\n",
       "      <td>La</td>\n",
       "      <td>0</td>\n",
       "      <td>0</td>\n",
       "      <td>0</td>\n",
       "      <td>0</td>\n",
       "      <td>0</td>\n",
       "      <td>0</td>\n",
       "      <td>2</td>\n",
       "      <td>92.0</td>\n",
       "      <td>8.0</td>\n",
       "      <td>0.0</td>\n",
       "      <td>0.0</td>\n",
       "      <td>0.0</td>\n",
       "      <td>0.0</td>\n",
       "      <td>0.0</td>\n",
       "      <td>0.0</td>\n",
       "    </tr>\n",
       "    <tr>\n",
       "      <th>3</th>\n",
       "      <td>109.0</td>\n",
       "      <td>Al93Ce7</td>\n",
       "      <td>RMG</td>\n",
       "      <td>Al</td>\n",
       "      <td>Ce</td>\n",
       "      <td>0</td>\n",
       "      <td>0</td>\n",
       "      <td>0</td>\n",
       "      <td>0</td>\n",
       "      <td>0</td>\n",
       "      <td>0</td>\n",
       "      <td>2</td>\n",
       "      <td>93.0</td>\n",
       "      <td>7.0</td>\n",
       "      <td>0.0</td>\n",
       "      <td>0.0</td>\n",
       "      <td>0.0</td>\n",
       "      <td>0.0</td>\n",
       "      <td>0.0</td>\n",
       "      <td>0.0</td>\n",
       "    </tr>\n",
       "    <tr>\n",
       "      <th>4</th>\n",
       "      <td>128.0</td>\n",
       "      <td>Al98.9Ti1.1</td>\n",
       "      <td>CRA</td>\n",
       "      <td>Al</td>\n",
       "      <td>Ti</td>\n",
       "      <td>0</td>\n",
       "      <td>0</td>\n",
       "      <td>0</td>\n",
       "      <td>0</td>\n",
       "      <td>0</td>\n",
       "      <td>0</td>\n",
       "      <td>2</td>\n",
       "      <td>98.9</td>\n",
       "      <td>1.1</td>\n",
       "      <td>0.0</td>\n",
       "      <td>0.0</td>\n",
       "      <td>0.0</td>\n",
       "      <td>0.0</td>\n",
       "      <td>0.0</td>\n",
       "      <td>0.0</td>\n",
       "    </tr>\n",
       "  </tbody>\n",
       "</table>\n",
       "</div>"
      ],
      "text/plain": [
       "   index      Formula Phase Elem1 Elem2 Elem3 Elem4 Elem5 Elem6 Elem7 Elem8  \\\n",
       "0   29.0    Al40Cu60T   CRA    Al    Cu     0     0     0     0     0     0   \n",
       "1   92.0     Al90Ni10   CRA    Al    Ni     0     0     0     0     0     0   \n",
       "2  103.0      Al92La8   RMG    Al    La     0     0     0     0     0     0   \n",
       "3  109.0      Al93Ce7   RMG    Al    Ce     0     0     0     0     0     0   \n",
       "4  128.0  Al98.9Ti1.1   CRA    Al    Ti     0     0     0     0     0     0   \n",
       "\n",
       "   CantElemen  Compo1  Compo2  Compo3  Compo4  Compo5  Compo6  Compo7  Compo8  \n",
       "0           2    40.0    60.0     0.0     0.0     0.0     0.0     0.0     0.0  \n",
       "1           2    90.0    10.0     0.0     0.0     0.0     0.0     0.0     0.0  \n",
       "2           2    92.0     8.0     0.0     0.0     0.0     0.0     0.0     0.0  \n",
       "3           2    93.0     7.0     0.0     0.0     0.0     0.0     0.0     0.0  \n",
       "4           2    98.9     1.1     0.0     0.0     0.0     0.0     0.0     0.0  "
      ]
     },
     "execution_count": 321,
     "metadata": {},
     "output_type": "execute_result"
    }
   ],
   "source": [
    "df.head()"
   ]
  },
  {
   "cell_type": "code",
   "execution_count": 322,
   "metadata": {},
   "outputs": [
    {
     "data": {
      "text/html": [
       "<div>\n",
       "<style scoped>\n",
       "    .dataframe tbody tr th:only-of-type {\n",
       "        vertical-align: middle;\n",
       "    }\n",
       "\n",
       "    .dataframe tbody tr th {\n",
       "        vertical-align: top;\n",
       "    }\n",
       "\n",
       "    .dataframe thead th {\n",
       "        text-align: right;\n",
       "    }\n",
       "</style>\n",
       "<table border=\"1\" class=\"dataframe\">\n",
       "  <thead>\n",
       "    <tr style=\"text-align: right;\">\n",
       "      <th></th>\n",
       "      <th>Element</th>\n",
       "      <th>Eea (ev)</th>\n",
       "      <th>I1 (ev)</th>\n",
       "      <th>I2 (ev)</th>\n",
       "      <th>Tm (K)</th>\n",
       "      <th>AW</th>\n",
       "      <th>AN</th>\n",
       "      <th>Rm (nm)</th>\n",
       "      <th>Rc (nm)</th>\n",
       "      <th>Gp</th>\n",
       "      <th>...</th>\n",
       "      <th>dVEC</th>\n",
       "      <th>XP</th>\n",
       "      <th>XM</th>\n",
       "      <th>Cp (J/molK)</th>\n",
       "      <th>K (W/m)/K 300K</th>\n",
       "      <th>W</th>\n",
       "      <th>D</th>\n",
       "      <th>Hf (kJ/mol)</th>\n",
       "      <th>LP</th>\n",
       "      <th>Tb (K)</th>\n",
       "    </tr>\n",
       "  </thead>\n",
       "  <tbody>\n",
       "    <tr>\n",
       "      <th>0</th>\n",
       "      <td>Ag</td>\n",
       "      <td>1.3040</td>\n",
       "      <td>7.576</td>\n",
       "      <td>2.145.411</td>\n",
       "      <td>1234.93</td>\n",
       "      <td>107.87</td>\n",
       "      <td>47</td>\n",
       "      <td>0.1445</td>\n",
       "      <td>0.145</td>\n",
       "      <td>11</td>\n",
       "      <td>...</td>\n",
       "      <td>10</td>\n",
       "      <td>1.93</td>\n",
       "      <td>1.83</td>\n",
       "      <td>25.350</td>\n",
       "      <td>429.0</td>\n",
       "      <td>4.64</td>\n",
       "      <td>10.50</td>\n",
       "      <td>11.30</td>\n",
       "      <td>18.005</td>\n",
       "      <td>2435.15</td>\n",
       "    </tr>\n",
       "    <tr>\n",
       "      <th>1</th>\n",
       "      <td>Al</td>\n",
       "      <td>0.4328</td>\n",
       "      <td>5.986</td>\n",
       "      <td>1.882.883</td>\n",
       "      <td>933.47</td>\n",
       "      <td>2.698.154</td>\n",
       "      <td>13</td>\n",
       "      <td>0.1432</td>\n",
       "      <td>0.121</td>\n",
       "      <td>13</td>\n",
       "      <td>...</td>\n",
       "      <td>0</td>\n",
       "      <td>1.61</td>\n",
       "      <td>1.37</td>\n",
       "      <td>24.200</td>\n",
       "      <td>237.0</td>\n",
       "      <td>4.19</td>\n",
       "      <td>2.70</td>\n",
       "      <td>10.79</td>\n",
       "      <td>16.472</td>\n",
       "      <td>2792.15</td>\n",
       "    </tr>\n",
       "    <tr>\n",
       "      <th>2</th>\n",
       "      <td>Au</td>\n",
       "      <td>2.3090</td>\n",
       "      <td>9.226</td>\n",
       "      <td>2.052.132</td>\n",
       "      <td>1337.33</td>\n",
       "      <td>196.97</td>\n",
       "      <td>79</td>\n",
       "      <td>0.1442</td>\n",
       "      <td>0.136</td>\n",
       "      <td>11</td>\n",
       "      <td>...</td>\n",
       "      <td>10</td>\n",
       "      <td>2.54</td>\n",
       "      <td>2.33</td>\n",
       "      <td>25.418</td>\n",
       "      <td>317.0</td>\n",
       "      <td>5.32</td>\n",
       "      <td>19.30</td>\n",
       "      <td>12.55</td>\n",
       "      <td>18.145</td>\n",
       "      <td>3129.15</td>\n",
       "    </tr>\n",
       "    <tr>\n",
       "      <th>3</th>\n",
       "      <td>B</td>\n",
       "      <td>0.2800</td>\n",
       "      <td>8.298</td>\n",
       "      <td>2.515.521</td>\n",
       "      <td>2349.15</td>\n",
       "      <td>10.81</td>\n",
       "      <td>5</td>\n",
       "      <td>0.0820</td>\n",
       "      <td>0.084</td>\n",
       "      <td>13</td>\n",
       "      <td>...</td>\n",
       "      <td>0</td>\n",
       "      <td>2.04</td>\n",
       "      <td>1.77</td>\n",
       "      <td>11.087</td>\n",
       "      <td>27.0</td>\n",
       "      <td>4.75</td>\n",
       "      <td>2.34</td>\n",
       "      <td>50.20</td>\n",
       "      <td>86.991</td>\n",
       "      <td>4200.15</td>\n",
       "    </tr>\n",
       "    <tr>\n",
       "      <th>4</th>\n",
       "      <td>Ba</td>\n",
       "      <td>0.1450</td>\n",
       "      <td>5.212</td>\n",
       "      <td>1.000.363</td>\n",
       "      <td>1000.15</td>\n",
       "      <td>137.33</td>\n",
       "      <td>56</td>\n",
       "      <td>0.2176</td>\n",
       "      <td>0.215</td>\n",
       "      <td>2</td>\n",
       "      <td>...</td>\n",
       "      <td>0</td>\n",
       "      <td>0.89</td>\n",
       "      <td>1.17</td>\n",
       "      <td>28.070</td>\n",
       "      <td>18.4</td>\n",
       "      <td>2.35</td>\n",
       "      <td>3.62</td>\n",
       "      <td>7.75</td>\n",
       "      <td>63.643</td>\n",
       "      <td>2170.15</td>\n",
       "    </tr>\n",
       "  </tbody>\n",
       "</table>\n",
       "<p>5 rows × 24 columns</p>\n",
       "</div>"
      ],
      "text/plain": [
       "  Element  Eea (ev)  I1 (ev)    I2 (ev)   Tm (K)         AW  AN  Rm (nm)  \\\n",
       "0      Ag    1.3040    7.576  2.145.411  1234.93     107.87  47   0.1445   \n",
       "1      Al    0.4328    5.986  1.882.883   933.47  2.698.154  13   0.1432   \n",
       "2      Au    2.3090    9.226  2.052.132  1337.33     196.97  79   0.1442   \n",
       "3       B    0.2800    8.298  2.515.521  2349.15      10.81   5   0.0820   \n",
       "4      Ba    0.1450    5.212  1.000.363  1000.15     137.33  56   0.2176   \n",
       "\n",
       "   Rc (nm)  Gp  ...  dVEC    XP    XM  Cp (J/molK)  K (W/m)/K 300K     W  \\\n",
       "0    0.145  11  ...    10  1.93  1.83       25.350           429.0  4.64   \n",
       "1    0.121  13  ...     0  1.61  1.37       24.200           237.0  4.19   \n",
       "2    0.136  11  ...    10  2.54  2.33       25.418           317.0  5.32   \n",
       "3    0.084  13  ...     0  2.04  1.77       11.087            27.0  4.75   \n",
       "4    0.215   2  ...     0  0.89  1.17       28.070            18.4  2.35   \n",
       "\n",
       "       D  Hf (kJ/mol)      LP   Tb (K)  \n",
       "0  10.50        11.30  18.005  2435.15  \n",
       "1   2.70        10.79  16.472  2792.15  \n",
       "2  19.30        12.55  18.145  3129.15  \n",
       "3   2.34        50.20  86.991  4200.15  \n",
       "4   3.62         7.75  63.643  2170.15  \n",
       "\n",
       "[5 rows x 24 columns]"
      ]
     },
     "execution_count": 322,
     "metadata": {},
     "output_type": "execute_result"
    }
   ],
   "source": [
    "#Leer el archivo de \"TablaPeriodica.csv\"\n",
    "df_tabla_periodica = pd.read_csv(\"../Inputs/TablaPeriodica.csv\", sep=\";\")\n",
    "df_tabla_periodica.head()"
   ]
  },
  {
   "cell_type": "code",
   "execution_count": 323,
   "metadata": {},
   "outputs": [
    {
     "name": "stdout",
     "output_type": "stream",
     "text": [
      "Cantidad de registros: 6415\n",
      "Cantidad de columnas: 212\n"
     ]
    },
    {
     "name": "stderr",
     "output_type": "stream",
     "text": [
      "C:\\Users\\Luis\\AppData\\Local\\Temp\\ipykernel_22312\\364328701.py:3: FutureWarning: Passing 'suffixes' which cause duplicate columns {'I1 (ev)_x', 'sVEC_x', 'W_x', 'D_x', 'pVEC_x', 'K (W/m)/K 300K_x', 'VEC_x', 'Rc (nm)_x', 'I2 (ev)_x', 'LP_x', 'Hf (kJ/mol)_x', 'XP_x', 'Element_x', 'Tb (K)_x', 'Gp_x', 'XM_x', 'P_x', 'Eea (ev)_x', 'AN_x', 'Tm (K)_x', 'AW_x', 'dVEC_x', 'Cp (J/molK)_x', 'Rm (nm)_x'} in the result is deprecated and will raise a MergeError in a future version.\n",
      "  df = df.merge(df_tabla_periodica, left_on=f\"Elem{i}\", right_on=\"Element\", how=\"left\")\n",
      "C:\\Users\\Luis\\AppData\\Local\\Temp\\ipykernel_22312\\364328701.py:3: FutureWarning: Passing 'suffixes' which cause duplicate columns {'I1 (ev)_x', 'sVEC_x', 'W_x', 'D_x', 'pVEC_x', 'K (W/m)/K 300K_x', 'VEC_x', 'Rc (nm)_x', 'I2 (ev)_x', 'LP_x', 'Hf (kJ/mol)_x', 'XP_x', 'Element_x', 'Tb (K)_x', 'Gp_x', 'XM_x', 'P_x', 'Eea (ev)_x', 'AN_x', 'Tm (K)_x', 'AW_x', 'dVEC_x', 'Cp (J/molK)_x', 'Rm (nm)_x'} in the result is deprecated and will raise a MergeError in a future version.\n",
      "  df = df.merge(df_tabla_periodica, left_on=f\"Elem{i}\", right_on=\"Element\", how=\"left\")\n",
      "C:\\Users\\Luis\\AppData\\Local\\Temp\\ipykernel_22312\\364328701.py:3: FutureWarning: Passing 'suffixes' which cause duplicate columns {'I1 (ev)_x', 'sVEC_x', 'W_x', 'D_x', 'pVEC_x', 'K (W/m)/K 300K_x', 'VEC_x', 'Rc (nm)_x', 'I2 (ev)_x', 'LP_x', 'Hf (kJ/mol)_x', 'XP_x', 'Element_x', 'Tb (K)_x', 'Gp_x', 'XM_x', 'P_x', 'Eea (ev)_x', 'AN_x', 'Tm (K)_x', 'AW_x', 'dVEC_x', 'Cp (J/molK)_x', 'Rm (nm)_x'} in the result is deprecated and will raise a MergeError in a future version.\n",
      "  df = df.merge(df_tabla_periodica, left_on=f\"Elem{i}\", right_on=\"Element\", how=\"left\")\n"
     ]
    }
   ],
   "source": [
    "for i in range(1, 9):\n",
    "    # Realizar el \"merge\" entre df1 y df2 en función de las columnas de elementos\n",
    "    df = df.merge(df_tabla_periodica, left_on=f\"Elem{i}\", right_on=\"Element\", how=\"left\")\n",
    "print('Cantidad de registros:', len(df))\n",
    "print('Cantidad de columnas:', len(df.columns))"
   ]
  },
  {
   "cell_type": "code",
   "execution_count": 324,
   "metadata": {},
   "outputs": [],
   "source": [
    "#Eliminar las columnas que no se necesitan\n",
    "df = df.drop(columns=[\"Elem1\", \"Elem2\", \"Elem3\", \"Elem4\", \"Elem5\", \"Elem6\", \"Elem7\", \"Elem8\", \"Element_x\", \"index\", \"Formula\", \"CantElemen\"])"
   ]
  },
  {
   "cell_type": "code",
   "execution_count": 340,
   "metadata": {},
   "outputs": [],
   "source": [
    "df_total = df.copy()"
   ]
  },
  {
   "cell_type": "code",
   "execution_count": 341,
   "metadata": {},
   "outputs": [
    {
     "name": "stdout",
     "output_type": "stream",
     "text": [
      "['CRA' 'RMG' 'BMG']\n",
      "[2 1 0]\n"
     ]
    }
   ],
   "source": [
    "#Tipos de la columna \"Phase\"\n",
    "print(df_total[\"Phase\"].unique())\n",
    "#Reemplazar BMG por 0, RMG por 1 y CRA por 2\n",
    "df_total[\"Phase\"] = df_total[\"Phase\"].replace({\"BMG\": 0, \"RMG\": 1, \"CRA\": 2})\n",
    "#Tipos de la columna \"Phase\"\n",
    "print(df_total[\"Phase\"].unique())"
   ]
  },
  {
   "cell_type": "code",
   "execution_count": 342,
   "metadata": {},
   "outputs": [],
   "source": [
    "#La etiqueta de la columna \"Phase\"\n",
    "y = df_total[\"Phase\"]\n",
    "#Las características de las columnas\n",
    "X = df_total.drop(columns=[\"Phase\"])\n"
   ]
  },
  {
   "cell_type": "code",
   "execution_count": 343,
   "metadata": {},
   "outputs": [],
   "source": [
    "from sklearn.model_selection import train_test_split\n",
    "#Dividir el conjunto de datos en entrenamiento y prueba\n",
    "X_train, X_test, y_train, y_test = train_test_split(X, y, test_size=0.2, random_state=42)\n"
   ]
  },
  {
   "cell_type": "code",
   "execution_count": 344,
   "metadata": {},
   "outputs": [],
   "source": [
    "#Convertir el X_train y X_test en números\n",
    "X_train = X_train.apply(pd.to_numeric, errors='coerce')\n",
    "X_test = X_test.apply(pd.to_numeric, errors='coerce')"
   ]
  },
  {
   "cell_type": "code",
   "execution_count": 345,
   "metadata": {},
   "outputs": [
    {
     "name": "stderr",
     "output_type": "stream",
     "text": [
      "c:\\Users\\Luis\\AppData\\Local\\Programs\\Python\\Python310\\lib\\site-packages\\sklearn\\utils\\extmath.py:981: RuntimeWarning: invalid value encountered in divide\n",
      "  updated_mean = (last_sum + new_sum) / updated_sample_count\n",
      "c:\\Users\\Luis\\AppData\\Local\\Programs\\Python\\Python310\\lib\\site-packages\\sklearn\\utils\\extmath.py:986: RuntimeWarning: invalid value encountered in divide\n",
      "  T = new_sum / new_sample_count\n",
      "c:\\Users\\Luis\\AppData\\Local\\Programs\\Python\\Python310\\lib\\site-packages\\sklearn\\utils\\extmath.py:1006: RuntimeWarning: invalid value encountered in divide\n",
      "  new_unnormalized_variance -= correction**2 / new_sample_count\n"
     ]
    }
   ],
   "source": [
    "#Normalizar los datos\n",
    "from sklearn.preprocessing import StandardScaler\n",
    "scaler = StandardScaler()\n",
    "X_train_scaled = scaler.fit_transform(X_train)\n",
    "X_test_scaled = scaler.transform(X_test)"
   ]
  },
  {
   "cell_type": "code",
   "execution_count": 346,
   "metadata": {},
   "outputs": [],
   "source": [
    "#Fillna\n",
    "X_train_scaled = pd.DataFrame(X_train_scaled).fillna(0)\n",
    "X_test_scaled = pd.DataFrame(X_test_scaled).fillna(0)"
   ]
  },
  {
   "cell_type": "code",
   "execution_count": 347,
   "metadata": {},
   "outputs": [],
   "source": [
    "from sklearn.ensemble import RandomForestClassifier\n",
    "from sklearn.metrics import accuracy_score, classification_report, confusion_matrix\n",
    "#Crear el modelo\n",
    "model = RandomForestClassifier(n_estimators=100, max_depth=10, random_state=42)\n",
    "#Entrenar el modelo\n",
    "model.fit(X_train_scaled, y_train)\n",
    "#Predecir con el modelo\n",
    "y_pred = model.predict(X_test_scaled)"
   ]
  },
  {
   "cell_type": "code",
   "execution_count": 348,
   "metadata": {},
   "outputs": [
    {
     "name": "stdout",
     "output_type": "stream",
     "text": [
      "Accuracy score:  0.8168355416991426\n",
      "Reporte de clasificación: \n",
      "              precision    recall  f1-score   support\n",
      "\n",
      "           0       1.00      0.93      0.96       229\n",
      "           1       0.78      0.94      0.85       726\n",
      "           2       0.79      0.46      0.58       328\n",
      "\n",
      "    accuracy                           0.82      1283\n",
      "   macro avg       0.85      0.78      0.80      1283\n",
      "weighted avg       0.82      0.82      0.80      1283\n",
      "\n",
      "Matriz de confusión: \n",
      "[[212  17   0]\n",
      " [  0 685  41]\n",
      " [  1 176 151]]\n"
     ]
    },
    {
     "data": {
      "image/png": "[encoded data removed]",
      "text/plain": [
       "<Figure size 1000x1000 with 2 Axes>"
      ]
     },
     "metadata": {},
     "output_type": "display_data"
    }
   ],
   "source": [
    "#Calcular la precisión del modelo\n",
    "print('Accuracy score: ', accuracy_score(y_test, y_pred))\n",
    "#Reporte de clasificación\n",
    "print('Reporte de clasificación: ')\n",
    "print(classification_report(y_test, y_pred))\n",
    "\n",
    "#Matriz de confusión\n",
    "print('Matriz de confusión: ')\n",
    "print(confusion_matrix(y_test, y_pred))\n",
    "\n",
    "#Gráficar la matriz de confusión\n",
    "import matplotlib.pyplot as plt\n",
    "import seaborn as sns\n",
    "plt.figure(figsize=(10, 10))\n",
    "sns.heatmap(confusion_matrix(y_test, y_pred), annot=True, fmt=\"d\")\n",
    "plt.title(\"Matriz de confusión\")\n",
    "plt.ylabel('Etiqueta real')\n",
    "plt.xlabel('Etiqueta predicha')\n",
    "plt.show()"
   ]
  },
  {
   "cell_type": "code",
   "execution_count": 349,
   "metadata": {},
   "outputs": [
    {
     "data": {
      "text/plain": [
       "Text(0.5, 1.0, \"Histograma de VP's\")"
      ]
     },
     "execution_count": 349,
     "metadata": {},
     "output_type": "execute_result"
    },
    {
     "data": {
      "image/png": "[encoded data removed]",
      "text/plain": [
       "<Figure size 1000x1000 with 1 Axes>"
      ]
     },
     "metadata": {},
     "output_type": "display_data"
    }
   ],
   "source": [
    "#Extraer los VP y VN, FP y FN de la primera etiequta\n",
    "VP_1 = confusion_matrix(y_test, y_pred)[0][0]\n",
    "VN_1 = confusion_matrix(y_test, y_pred)[0][1]\n",
    "FP_1 = confusion_matrix(y_test, y_pred)[1][0]\n",
    "FN_1 = confusion_matrix(y_test, y_pred)[1][1]\n",
    "\n",
    "#Extraer los VP y VN, FP y FN de la segunda etiequta\n",
    "VP_2 = confusion_matrix(y_test, y_pred)[1][1]\n",
    "VN_2 = confusion_matrix(y_test, y_pred)[1][0]\n",
    "FP_2 = confusion_matrix(y_test, y_pred)[0][1]\n",
    "FN_2 = confusion_matrix(y_test, y_pred)[0][0]\n",
    "\n",
    "#Extraer los VP y VN, FP y FN de la tercera etiequta\n",
    "VP_3 = confusion_matrix(y_test, y_pred)[2][2]\n",
    "VN_3 = confusion_matrix(y_test, y_pred)[2][0]\n",
    "FP_3 = confusion_matrix(y_test, y_pred)[0][2]\n",
    "FN_3 = confusion_matrix(y_test, y_pred)[0][0]\n",
    "\n",
    "\n",
    "#Realizar un histograma de VP's, donde estos son el eje Y y las etiquetas son el eje X\n",
    "plt.figure(figsize=(10, 10))\n",
    "plt.bar([\"VP_1\", \"VP_2\", \"VP_3\"], [VP_1, VP_2, VP_3])\n",
    "plt.title(\"Histograma de VP's\")"
   ]
  },
  {
   "cell_type": "code",
   "execution_count": 350,
   "metadata": {},
   "outputs": [],
   "source": [
    "#Guardado del modelo\n",
    "import pickle\n",
    "pickle.dump(model, open(\"../model/model.pkl\", \"wb\"))\n"
   ]
  }
 ],
 "metadata": {
  "kernelspec": {
   "display_name": "Python 3",
   "language": "python",
   "name": "python3"
  },
  "language_info": {
   "codemirror_mode": {
    "name": "ipython",
    "version": 3
   },
   "file_extension": ".py",
   "mimetype": "text/x-python",
   "name": "python",
   "nbconvert_exporter": "python",
   "pygments_lexer": "ipython3",
   "version": "3.10.8"
  },
  "orig_nbformat": 4
 },
 "nbformat": 4,
 "nbformat_minor": 2
}
